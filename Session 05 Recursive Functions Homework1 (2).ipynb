{
 "cells": [
  {
   "cell_type": "code",
   "execution_count": 1,
   "id": "b544541f",
   "metadata": {},
   "outputs": [
    {
     "name": "stdout",
     "output_type": "stream",
     "text": [
      "5\n"
     ]
    },
    {
     "data": {
      "text/plain": [
       "16"
      ]
     },
     "execution_count": 1,
     "metadata": {},
     "output_type": "execute_result"
    }
   ],
   "source": [
    "def length_3n_plus_1(n):\n",
    "    x=(3*n)+1\n",
    "    return x\n",
    "n = int(input())\n",
    "length_3n_plus_1(n)\n"
   ]
  },
  {
   "cell_type": "code",
   "execution_count": 9,
   "id": "42547d8f",
   "metadata": {},
   "outputs": [
    {
     "name": "stdout",
     "output_type": "stream",
     "text": [
      "enter toyr value: 5\n",
      "enter the power: 3\n"
     ]
    },
    {
     "data": {
      "text/plain": [
       "125"
      ]
     },
     "execution_count": 9,
     "metadata": {},
     "output_type": "execute_result"
    }
   ],
   "source": [
    "def my_pow(val,p):\n",
    "    if p==0:\n",
    "        return 1\n",
    "    else:\n",
    "        return my_pow(val,p-1)*val\n",
    "val=int(input(\"enter toyr value: \"))\n",
    "p=int(input(\"enter the power: \"))\n",
    "my_pow(val,p)"
   ]
  },
  {
   "cell_type": "code",
   "execution_count": 48,
   "id": "10d06777",
   "metadata": {},
   "outputs": [
    {
     "name": "stdout",
     "output_type": "stream",
     "text": [
      "enter the number of list items: 5\n",
      "enter any number: 1\n",
      "enter any number: 2\n",
      "enter any number: 3\n",
      "enter any number: 4\n",
      "enter any number: 5\n",
      "[1, 2, 3, 4, 5]\n"
     ]
    },
    {
     "data": {
      "text/plain": [
       "15"
      ]
     },
     "execution_count": 48,
     "metadata": {},
     "output_type": "execute_result"
    }
   ],
   "source": [
    "lis=[]\n",
    "n =int(input(\"enter the number of list items: \"))\n",
    "for i in range(n):\n",
    "    x=int(input(\"enter any number: \"))\n",
    "    lis.insert(i,x)\n",
    "print(lis)\n",
    "def lis_sum():\n",
    "    if n==0:\n",
    "        return 0\n",
    "    else:\n",
    "        i=0\n",
    "        x=0\n",
    "        for i in range (n):\n",
    "            x=x+lis[i]\n",
    "        return x\n",
    "    \n",
    "lis_sum()"
   ]
  },
  {
   "cell_type": "code",
   "execution_count": 50,
   "id": "fb551cd1",
   "metadata": {},
   "outputs": [
    {
     "name": "stdout",
     "output_type": "stream",
     "text": [
      "enter the number of list items: 5\n",
      "enter any number: 13\n",
      "enter any number: 57\n",
      "enter any number: 9764\n",
      "enter any number: 56867970\n",
      "enter any number: 34\n",
      "[13, 57, 9764, 56867970, 34]\n"
     ]
    },
    {
     "data": {
      "text/plain": [
       "56867970"
      ]
     },
     "execution_count": 50,
     "metadata": {},
     "output_type": "execute_result"
    }
   ],
   "source": [
    "lis=[]\n",
    "n =int(input(\"enter the number of list items: \"))\n",
    "for i in range(n):\n",
    "    x=int(input(\"enter any number: \"))\n",
    "    lis.insert(i,x)\n",
    "print(lis)\n",
    "def max_num():\n",
    "    if n==0:\n",
    "        return 0\n",
    "    else:\n",
    "        i=1\n",
    "        for i in range(n):\n",
    "            if lis[i-1]<lis[i]:\n",
    "                max=lis[i]\n",
    "            else:\n",
    "                max=lis[i-1]\n",
    "        return max\n",
    "max_num()"
   ]
  },
  {
   "cell_type": "code",
   "execution_count": 55,
   "id": "4ada20a7",
   "metadata": {},
   "outputs": [
    {
     "name": "stdout",
     "output_type": "stream",
     "text": [
      "enter the number of list items: 6\n",
      "enter any number: 23\n",
      "enter any number: 578\n",
      "enter any number: 53\n",
      "enter any number: 57\n",
      "enter any number: 834\n",
      "enter any number: 689\n",
      "[23, 578, 53, 57, 834, 689]\n"
     ]
    },
    {
     "data": {
      "text/plain": [
       "372.3333333333333"
      ]
     },
     "execution_count": 55,
     "metadata": {},
     "output_type": "execute_result"
    }
   ],
   "source": [
    "lis=[]\n",
    "n =int(input(\"enter the number of list items: \"))\n",
    "for i in range(n):\n",
    "    x=int(input(\"enter any number: \"))\n",
    "    lis.insert(i,x)\n",
    "print(lis)\n",
    "def lis_sum():\n",
    "    if n==0:\n",
    "        return 0\n",
    "    else:\n",
    "        i=0\n",
    "        x=0\n",
    "        for i in range (n):\n",
    "            x=(x+lis[i])\n",
    "        x=x/n\n",
    "        return x\n",
    "    \n",
    "lis_sum()"
   ]
  },
  {
   "cell_type": "code",
   "execution_count": 2,
   "id": "9a316c14",
   "metadata": {},
   "outputs": [
    {
     "name": "stdout",
     "output_type": "stream",
     "text": [
      "enter the number of list items: 5\n",
      "enter any number: 1\n",
      "enter any number: 8\n",
      "enter any number: 2\n",
      "enter any number: 10\n",
      "enter any number: 3\n",
      "[1, 8, 2, 10, 3]\n"
     ]
    },
    {
     "data": {
      "text/plain": [
       "[6, 12, 5, 12, 4]"
      ]
     },
     "execution_count": 2,
     "metadata": {},
     "output_type": "execute_result"
    }
   ],
   "source": [
    "n =int(input(\"enter the number of list items: \"))\n",
    "def lis_inc(lis):\n",
    "    global n\n",
    "    if n==0:\n",
    "        return 0\n",
    "    elif n==1:\n",
    "        i=0\n",
    "        return lis[i]+1\n",
    "    else:\n",
    "        i=0\n",
    "        while n>=1:\n",
    "            lis[i]+=n\n",
    "            n-=1\n",
    "            i+=1\n",
    "        return lis\n",
    "lis=[]\n",
    "for i in range(n):\n",
    "    x=int(input(\"enter any number: \"))\n",
    "    lis.insert(i,x)\n",
    "print(lis)\n",
    "    \n",
    "lis_inc(lis)"
   ]
  },
  {
   "cell_type": "code",
   "execution_count": 33,
   "id": "882eb131",
   "metadata": {},
   "outputs": [
    {
     "name": "stdout",
     "output_type": "stream",
     "text": [
      "enter the number of list items: 5\n",
      "enter any number: 1\n",
      "enter any number: 8\n",
      "enter any number: 2\n",
      "enter any number: 10\n",
      "enter any number: 3\n",
      "[1, 8, 2, 10, 3]\n"
     ]
    },
    {
     "data": {
      "text/plain": [
       "[1, 9, 11, 21, 24]"
      ]
     },
     "execution_count": 33,
     "metadata": {},
     "output_type": "execute_result"
    }
   ],
   "source": [
    "lis=[]\n",
    "n =int(input(\"enter the number of list items: \"))\n",
    "for i in range(n):\n",
    "    x=int(input(\"enter any number: \"))\n",
    "    lis.insert(i,x)\n",
    "print(lis)\n",
    "def lis_sum2(lis):\n",
    "    if n==0:\n",
    "        return 0\n",
    "    else:\n",
    "        x=0\n",
    "        for i in lis:\n",
    "            x+=i \n",
    "            yield x\n",
    "    \n",
    "list((lis_sum2(lis)))\n"
   ]
  }
 ],
 "metadata": {
  "kernelspec": {
   "display_name": "Python 3 (ipykernel)",
   "language": "python",
   "name": "python3"
  },
  "language_info": {
   "codemirror_mode": {
    "name": "ipython",
    "version": 3
   },
   "file_extension": ".py",
   "mimetype": "text/x-python",
   "name": "python",
   "nbconvert_exporter": "python",
   "pygments_lexer": "ipython3",
   "version": "3.9.12"
  }
 },
 "nbformat": 4,
 "nbformat_minor": 5
}
