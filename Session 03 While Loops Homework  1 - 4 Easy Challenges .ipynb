{
 "cells": [
  {
   "cell_type": "code",
   "execution_count": 10,
   "id": "f3057087",
   "metadata": {},
   "outputs": [
    {
     "name": "stdout",
     "output_type": "stream",
     "text": [
      "enter the start number 2\n",
      "enter the end number 6\n",
      "2\n",
      "3\n",
      "4\n",
      "5\n",
      "6\n"
     ]
    }
   ],
   "source": [
    "x=int(input(\"enter the start number \"))\n",
    "y=int(input(\"enter the end number \"))\n",
    "i=0\n",
    "print(x)\n",
    "while x<y:\n",
    "    x = x+1\n",
    "    print(x)\n",
    "    "
   ]
  },
  {
   "cell_type": "code",
   "execution_count": 2,
   "id": "c72ffb8f",
   "metadata": {},
   "outputs": [
    {
     "name": "stdout",
     "output_type": "stream",
     "text": [
      "enter any number 4\n",
      "enter any letter hi\n",
      "hihihihi"
     ]
    }
   ],
   "source": [
    "n=int(input(\"enter any number \"))\n",
    "s=input(\"enter any letter \")\n",
    "i=0\n",
    "while i<n:\n",
    "    print(s,end=\"\")\n",
    "    i+=1\n",
    "    "
   ]
  },
  {
   "cell_type": "code",
   "execution_count": 5,
   "id": "a5e501de",
   "metadata": {},
   "outputs": [
    {
     "name": "stdout",
     "output_type": "stream",
     "text": [
      "enter the start number 5\n",
      "*****\n",
      "****\n",
      "***\n",
      "**\n",
      "*\n"
     ]
    }
   ],
   "source": [
    "x=int(input(\"enter the start number \"))\n",
    "i=0\n",
    "while i<x:\n",
    "    print(\"*\"*x)\n",
    "    x-=1\n",
    "    "
   ]
  },
  {
   "cell_type": "code",
   "execution_count": 5,
   "id": "cf051b1b",
   "metadata": {},
   "outputs": [
    {
     "name": "stdout",
     "output_type": "stream",
     "text": [
      "enter any number 5\n",
      "enter your numbers 1\n",
      "enter your numbers 2\n",
      "enter your numbers 3\n",
      "enter your numbers 4\n",
      "enter your numbers 5\n",
      "3.0\n",
      "3.0\n"
     ]
    }
   ],
   "source": [
    "x=int(input(\"enter any number \"))\n",
    "i=0\n",
    "sum_e=0\n",
    "sum_o=0\n",
    "z=0\n",
    "d=0\n",
    "while i<x:\n",
    "    y=int(input(\"enter your numbers \"))\n",
    "    if y % 2 == 0:\n",
    "        sum_e=sum_e+y\n",
    "        z+=1\n",
    "        av_e=sum_e/z\n",
    "    else:\n",
    "        sum_o=sum_o+y\n",
    "        d+=1\n",
    "        av_o=sum_o/d\n",
    "\n",
    "    i+=1\n",
    "print(av_e)\n",
    "print(av_o)\n"
   ]
  },
  {
   "cell_type": "markdown",
   "id": "efa94771",
   "metadata": {},
   "source": []
  }
 ],
 "metadata": {
  "kernelspec": {
   "display_name": "Python 3 (ipykernel)",
   "language": "python",
   "name": "python3"
  },
  "language_info": {
   "codemirror_mode": {
    "name": "ipython",
    "version": 3
   },
   "file_extension": ".py",
   "mimetype": "text/x-python",
   "name": "python",
   "nbconvert_exporter": "python",
   "pygments_lexer": "ipython3",
   "version": "3.9.12"
  }
 },
 "nbformat": 4,
 "nbformat_minor": 5
}
