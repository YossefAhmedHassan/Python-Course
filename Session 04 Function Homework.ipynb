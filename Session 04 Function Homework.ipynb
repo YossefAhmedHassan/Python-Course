{
 "cells": [
  {
   "cell_type": "code",
   "execution_count": 2,
   "id": "03f6f6b7",
   "metadata": {},
   "outputs": [
    {
     "name": "stdout",
     "output_type": "stream",
     "text": [
      "sfgjndghk\n",
      "sffgggjjjjnnnnnddddddggggggghhhhhhhhkkkkkkkkk"
     ]
    }
   ],
   "source": [
    "def special_multiplication(x):\n",
    "    \n",
    "    for i in range(len(x)+1):\n",
    "        i*=x[i-1]\n",
    "        print(i,end=\"\")\n",
    "x = input(\"\")\n",
    "special_multiplication(x)"
   ]
  },
  {
   "cell_type": "code",
   "execution_count": 3,
   "id": "3f9977a8",
   "metadata": {},
   "outputs": [
    {
     "name": "stdout",
     "output_type": "stream",
     "text": [
      "enter any number 346\n",
      "enter any number 57568\n",
      "enter any number 346\n",
      "enter any number 346.47\n",
      "enter any number 354.658\n",
      "enter any number 346.47\n",
      "57568.0\n"
     ]
    }
   ],
   "source": [
    "def my_max2(a,b):\n",
    "    return max(a,b)\n",
    "def my_max3(a,b,c):\n",
    "    return max(a,b,c)\n",
    "def my_max4(a,b,c,d):\n",
    "    return max(a,b,c,d)\n",
    "def my_max5(a,b,c,d,e):\n",
    "    return max(a,b,c,d,e)\n",
    "def my_max6(a,b,c,d,e,f):\n",
    "    return max(a,b,c,d,e,f)\n",
    "a =float(input(\"enter any number \"))\n",
    "b =float(input(\"enter any number \"))\n",
    "c =float(input(\"enter any number \"))\n",
    "d =float(input(\"enter any number \"))\n",
    "e =float(input(\"enter any number \"))\n",
    "f =float(input(\"enter any number \"))\n",
    "print(my_max6(a,b,c,d,e,f))"
   ]
  },
  {
   "cell_type": "code",
   "execution_count": null,
   "id": "6b644c4b",
   "metadata": {},
   "outputs": [],
   "source": []
  }
 ],
 "metadata": {
  "kernelspec": {
   "display_name": "Python 3 (ipykernel)",
   "language": "python",
   "name": "python3"
  },
  "language_info": {
   "codemirror_mode": {
    "name": "ipython",
    "version": 3
   },
   "file_extension": ".py",
   "mimetype": "text/x-python",
   "name": "python",
   "nbconvert_exporter": "python",
   "pygments_lexer": "ipython3",
   "version": "3.9.12"
  }
 },
 "nbformat": 4,
 "nbformat_minor": 5
}
