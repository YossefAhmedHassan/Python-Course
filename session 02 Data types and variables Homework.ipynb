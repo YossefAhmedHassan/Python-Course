{
 "cells": [
  {
   "cell_type": "code",
   "execution_count": 19,
   "id": "9796cc67",
   "metadata": {},
   "outputs": [
    {
     "name": "stdout",
     "output_type": "stream",
     "text": [
      "enter the first number 2\n",
      "enter the first number 3\n",
      "2.000000 + 3.000000 =  5.0\n",
      "2.000000 - 3.000000 =  -1.0\n",
      "2.000000 * 3.000000 =  6.0\n",
      "2.000000 / 3.000000 =  0.6666666666666666\n"
     ]
    }
   ],
   "source": [
    "x=float(input(\"enter the first number \"))\n",
    "y=float(input(\"enter the second number \"))\n",
    "s=x+y\n",
    "m=x-y\n",
    "M=x*y\n",
    "d=x/y\n",
    "print(\"%f\"%x,\"+ %f = \"%y,s)\n",
    "print(\"%f\"%x,\"- %f = \"%y,m)\n",
    "print(\"%f\"%x,\"* %f = \"%y,M)\n",
    "print(\"%f\"%x,\"/ %f = \"%y,d)\n"
   ]
  },
  {
   "cell_type": "code",
   "execution_count": 22,
   "id": "f9f707c8",
   "metadata": {},
   "outputs": [
    {
     "name": "stdout",
     "output_type": "stream",
     "text": [
      "enter the first student's name youssef\n",
      "enter the first student's ID 18\n",
      "enter the first student's grade 20\n",
      "enter the secondsecond student's name ahmed\n",
      "enter the secondsecond student's ID 19\n",
      "enter the second student's grade 40\n",
      "infomat for students and their \"mathe\" grades\n",
      "youssef (ID 18) got grade:  20\n",
      "ahmed (ID 19) got grade:  40\n",
      "30.0\n"
     ]
    }
   ],
   "source": [
    "name1=input(\"enter the first student's name \")\n",
    "id1=input(\"enter the first student's ID \")\n",
    "grade1=int(input(\"enter the first student's grade \"))\n",
    "name2=input(\"enter the secondsecond student's name \")\n",
    "id2=input(\"enter the secondsecond student's ID \")\n",
    "grade2=int(input(\"enter the second student's grade \"))\n",
    "print('infomat for students and their \"mathe\" grades')\n",
    "print(\"%s\"%name1,\"(ID %s)\"%id1,\"got grade: \",grade1)\n",
    "print(\"%s\"%name2,\"(ID %s)\"%id2,\"got grade: \",grade2)\n",
    "av = (grade1+grade2)/2\n",
    "print(av)"
   ]
  },
  {
   "cell_type": "code",
   "execution_count": 27,
   "id": "01782399",
   "metadata": {},
   "outputs": [
    {
     "name": "stdout",
     "output_type": "stream",
     "text": [
      "enter your numbers2\n",
      "enter your numbers3\n",
      "enter your numbers4\n",
      "enter your numbers5\n",
      "6\n",
      "8\n"
     ]
    }
   ],
   "source": [
    "z=0\n",
    "y=0\n",
    "for i in range (8):\n",
    "    x= int(input(\"enter your numbers\"))\n",
    "    if x%2==0:\n",
    "        z+=x\n",
    "    else:\n",
    "        y+=x\n",
    "print(z)\n",
    "print(y)"
   ]
  },
  {
   "cell_type": "code",
   "execution_count": 31,
   "id": "6ee38fff",
   "metadata": {},
   "outputs": [
    {
     "name": "stdout",
     "output_type": "stream",
     "text": [
      "enter any letter a\n",
      "enter any letter b\n",
      "enter any letter c\n",
      " a ' b \" c a ' b \" c a ' b \" c a ' b \" c a ' b \" c a ' b \" c a ' b \" c a ' b \" c a ' b \" c a ' b \" c"
     ]
    }
   ],
   "source": [
    "x=input(\"enter any letter \")\n",
    "y=input(\"enter any letter \")\n",
    "z=input(\"enter any letter \")\n",
    "for i in range(10):\n",
    "    print(\"\",x,\"'\",y,'\"',z,end=\"\")"
   ]
  },
  {
   "cell_type": "code",
   "execution_count": 38,
   "id": "ad211ce1",
   "metadata": {},
   "outputs": [
    {
     "name": "stdout",
     "output_type": "stream",
     "text": [
      "enter the first number 2\n",
      "enter the second number 3\n",
      "3.0 2.0\n"
     ]
    }
   ],
   "source": [
    "num1=float(input(\"enter the first number \"))\n",
    "num2=float(input(\"enter the second number \"))\n",
    "x=num1\n",
    "num1=num2\n",
    "num2=x\n",
    "print(num1,num2)"
   ]
  }
 ],
 "metadata": {
  "kernelspec": {
   "display_name": "Python 3 (ipykernel)",
   "language": "python",
   "name": "python3"
  },
  "language_info": {
   "codemirror_mode": {
    "name": "ipython",
    "version": 3
   },
   "file_extension": ".py",
   "mimetype": "text/x-python",
   "name": "python",
   "nbconvert_exporter": "python",
   "pygments_lexer": "ipython3",
   "version": "3.9.12"
  }
 },
 "nbformat": 4,
 "nbformat_minor": 5
}
