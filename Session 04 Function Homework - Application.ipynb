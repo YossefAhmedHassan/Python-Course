{
 "cells": [
  {
   "cell_type": "code",
   "execution_count": 1,
   "id": "d71130b9",
   "metadata": {},
   "outputs": [
    {
     "name": "stdout",
     "output_type": "stream",
     "text": [
      "Enter 1 to sum integers from 1 to N \n",
      "Enter 2 to evaluate simple 2 numbers expression (e.g. 2 + 3) \n",
      "Enter 3 to end the program \n",
      "Enter a choice from 1 to 3 : 1\n",
      "enter a number: 4\n",
      "sum from 1 to  4 is  6\n",
      "Enter 1 to sum integers from 1 to N \n",
      "Enter 2 to evaluate simple 2 numbers expression (e.g. 2 + 3) \n",
      "Enter 3 to end the program \n",
      "Enter a choice from 1 to 3 : 2\n",
      "2 + 2\n",
      "4\n",
      "Enter 1 to sum integers from 1 to N \n",
      "Enter 2 to evaluate simple 2 numbers expression (e.g. 2 + 3) \n",
      "Enter 3 to end the program \n",
      "Enter a choice from 1 to 3 : 3\n",
      "Process finished wih exit code 0\n"
     ]
    }
   ],
   "source": [
    "def print_menu():\n",
    "    while True:\n",
    "        print(\"Enter 1 to sum integers from 1 to N \")\n",
    "        print(\"Enter 2 to evaluate simple 2 numbers expression (e.g. 2 + 3) \")\n",
    "        print(\"Enter 3 to end the program \")\n",
    "        x=input(\"Enter a choice from 1 to 3 : \")\n",
    "        if x not in '123':\n",
    "            print('Invalid Input...Try again')\n",
    "            continue\n",
    "        elif x=='1':\n",
    "            def sum_1_to_y():\n",
    "                y=int(input(\"enter a number: \"))\n",
    "                i=0\n",
    "                sum=0\n",
    "                while i<y:\n",
    "                    sum+=i\n",
    "                    i+=1\n",
    "                print(\"sum from 1 to \",y,\"is \",sum)\n",
    "            sum_1_to_y()\n",
    "        elif x=='2':\n",
    "            num1,operation,num2=map(str,input().split())\n",
    "            def divide(num1,operation,num2):\n",
    "                    if num2==\"0\" or num2==\"0\":\n",
    "                        if operation==\"/\" or operation==\"//\":\n",
    "                            x = print(\"divide on zero is not invalid\")\n",
    "                            return None\n",
    "                    else:\n",
    "                        num1=num1+operation+num2\n",
    "                        def expression():\n",
    "                            x=print(eval(num1))\n",
    "                            return x\n",
    "                        expression()\n",
    "            divide(num1,operation,num2)\n",
    "        elif x=='3':\n",
    "            print(\"Process finished wih exit code 0\")\n",
    "            break\n",
    "        \n",
    "\n",
    "\n",
    "print_menu()\n",
    "    "
   ]
  },
  {
   "cell_type": "code",
   "execution_count": null,
   "id": "ebbf2654",
   "metadata": {},
   "outputs": [],
   "source": []
  }
 ],
 "metadata": {
  "kernelspec": {
   "display_name": "Python 3 (ipykernel)",
   "language": "python",
   "name": "python3"
  },
  "language_info": {
   "codemirror_mode": {
    "name": "ipython",
    "version": 3
   },
   "file_extension": ".py",
   "mimetype": "text/x-python",
   "name": "python",
   "nbconvert_exporter": "python",
   "pygments_lexer": "ipython3",
   "version": "3.9.12"
  }
 },
 "nbformat": 4,
 "nbformat_minor": 5
}
