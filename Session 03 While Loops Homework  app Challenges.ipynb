{
 "cells": [
  {
   "cell_type": "code",
   "execution_count": 1,
   "id": "baa4eaf7",
   "metadata": {},
   "outputs": [
    {
     "name": "stdout",
     "output_type": "stream",
     "text": [
      "Enter 1 to sum integers from 1 to N \n",
      "Enter 2 to evaluate simple 2 numbers expression (e.g. 2 + 3) \n",
      "Enter 3 to end the program \n",
      "Enter a choice from 1 to 3 : 5\n",
      "Invalid Input.....Try again\n"
     ]
    }
   ],
   "source": [
    "print(\"Enter 1 to sum integers from 1 to N \")\n",
    "print(\"Enter 2 to evaluate simple 2 numbers expression (e.g. 2 + 3) \")\n",
    "print(\"Enter 3 to end the program \")\n",
    "x= int(input(\"Enter a choice from 1 to 3 : \"))\n",
    "if x==1:\n",
    "    y=int(input(\"enter a number: \"))\n",
    "    i=0\n",
    "    sum=0\n",
    "    while i<y:\n",
    "        sum+=i\n",
    "        i+=1\n",
    "    print(\"sum from 1 to \",y,\"is \",sum)\n",
    "\n",
    "elif x==2:\n",
    "    z=input(\"enter a simple expression: \")\n",
    "    print(eval(z))\n",
    "    \n",
    "\n",
    "elif x==3:\n",
    "    print(\"Process finished wih exit code 0\")\n",
    "    exit()\n",
    "\n",
    "else :\n",
    "    print(\"Invalid Input.....Try again\")\n",
    "    exit()\n"
   ]
  },
  {
   "cell_type": "code",
   "execution_count": null,
   "id": "3bf20356",
   "metadata": {},
   "outputs": [],
   "source": []
  }
 ],
 "metadata": {
  "kernelspec": {
   "display_name": "Python 3 (ipykernel)",
   "language": "python",
   "name": "python3"
  },
  "language_info": {
   "codemirror_mode": {
    "name": "ipython",
    "version": 3
   },
   "file_extension": ".py",
   "mimetype": "text/x-python",
   "name": "python",
   "nbconvert_exporter": "python",
   "pygments_lexer": "ipython3",
   "version": "3.9.12"
  }
 },
 "nbformat": 4,
 "nbformat_minor": 5
}
