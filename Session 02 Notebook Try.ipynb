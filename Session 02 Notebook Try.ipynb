{
 "cells": [
  {
   "cell_type": "code",
   "execution_count": 2,
   "id": "b389a89c",
   "metadata": {},
   "outputs": [
    {
     "name": "stdout",
     "output_type": "stream",
     "text": [
      "let's start\n"
     ]
    }
   ],
   "source": [
    "print(\"let's start\")"
   ]
  },
  {
   "cell_type": "code",
   "execution_count": 10,
   "id": "755fb3d7",
   "metadata": {},
   "outputs": [
    {
     "name": "stdout",
     "output_type": "stream",
     "text": [
      "enter any number 10\n",
      "enter another number 2.5\n",
      "the output number is 2.5\n",
      "12\n"
     ]
    }
   ],
   "source": [
    "n1=float(input(\"enter any number \"))\n",
    "n2=float(input(\"enter another number \"))\n",
    "a=min(n1,n2)\n",
    "print(\"the miminum number is\",a)\n",
    "print(int(n1+n2))"
   ]
  },
  {
   "cell_type": "code",
   "execution_count": 13,
   "id": "a2a296ff",
   "metadata": {},
   "outputs": [
    {
     "name": "stdout",
     "output_type": "stream",
     "text": [
      "return your name youssef ahmed\n",
      "13\n"
     ]
    }
   ],
   "source": [
    "n =input(\"enter your name \")\n",
    "n_len=len(n)\n",
    "print(n_len)"
   ]
  },
  {
   "cell_type": "code",
   "execution_count": 17,
   "id": "4743dec0",
   "metadata": {},
   "outputs": [
    {
     "name": "stdout",
     "output_type": "stream",
     "text": [
      "enter your name youssef\n",
      "True\n",
      "False\n"
     ]
    }
   ],
   "source": [
    "n =input(\"enter your name \")\n",
    "print(\"y\" in n)\n",
    "print(\"r\"in n)"
   ]
  },
  {
   "cell_type": "code",
   "execution_count": 19,
   "id": "e03590aa",
   "metadata": {},
   "outputs": [
    {
     "name": "stdout",
     "output_type": "stream",
     "text": [
      "enter your age 19\n",
      "you are above the law age\n"
     ]
    }
   ],
   "source": [
    "age =int(input(\"enter your age \"))\n",
    "if age<18:\n",
    "    print(\"you are under the law age\")\n",
    "else:\n",
    "    print(\"you are above the law age\")"
   ]
  },
  {
   "cell_type": "code",
   "execution_count": 21,
   "id": "08d47eda",
   "metadata": {},
   "outputs": [
    {
     "name": "stdout",
     "output_type": "stream",
     "text": [
      "enter your number 5000\n",
      "you are in a good job\n"
     ]
    }
   ],
   "source": [
    "s=int(input(\"enter your number \"))\n",
    "if s<1000:\n",
    "    print(\"you are poor\")\n",
    "elif 1000<s<=5000:\n",
    "    print(\"you are in a good job\")\n",
    "elif 5000<s<20000:\n",
    "    print(\"you are rich\")\n",
    "else:\n",
    "    print(\"salary out of scop\")"
   ]
  },
  {
   "cell_type": "code",
   "execution_count": null,
   "id": "f4aed146",
   "metadata": {},
   "outputs": [],
   "source": []
  }
 ],
 "metadata": {
  "kernelspec": {
   "display_name": "Python 3 (ipykernel)",
   "language": "python",
   "name": "python3"
  },
  "language_info": {
   "codemirror_mode": {
    "name": "ipython",
    "version": 3
   },
   "file_extension": ".py",
   "mimetype": "text/x-python",
   "name": "python",
   "nbconvert_exporter": "python",
   "pygments_lexer": "ipython3",
   "version": "3.9.12"
  }
 },
 "nbformat": 4,
 "nbformat_minor": 5
}
