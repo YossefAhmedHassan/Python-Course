{
 "cells": [
  {
   "cell_type": "code",
   "execution_count": 1,
   "id": "a15b3736",
   "metadata": {},
   "outputs": [
    {
     "name": "stdout",
     "output_type": "stream",
     "text": [
      "practice makes perfect.\n",
      "children must be taught\n",
      " how to think\n",
      " what to think\n",
      "\"\"\n",
      "2*3*4*5/10 = \n",
      "12.0\n"
     ]
    }
   ],
   "source": [
    "print('practice',\"makes perfect.\")\n",
    "print(\"children must be taught\\n how to think\\n what to think\")\n",
    "print(\"\\\"\\\"\")\n",
    "print('2*3*4*5/10 = ')\n",
    "print(2*3*4*5/10)"
   ]
  },
  {
   "cell_type": "code",
   "execution_count": 3,
   "id": "58750f95",
   "metadata": {},
   "outputs": [
    {
     "name": "stdout",
     "output_type": "stream",
     "text": [
      "print(\"me\")\n",
      "print('me')\n",
      "print('me')\n",
      "you will learn\n",
      " alot\n"
     ]
    }
   ],
   "source": [
    "print('print(\"me\")')\n",
    "print(\"print('me')\")\n",
    "print(\"print('me')\")\n",
    "print(\"\"\"you will learn\n",
    " alot\"\"\")"
   ]
  },
  {
   "cell_type": "code",
   "execution_count": 5,
   "id": "0d754137",
   "metadata": {},
   "outputs": [
    {
     "name": "stdout",
     "output_type": "stream",
     "text": [
      "enter any number 5\n",
      "*\n",
      "**\n",
      "***\n",
      "****\n",
      "*****\n"
     ]
    }
   ],
   "source": [
    "s=1\n",
    "x=int(input(\"enter any number \"))\n",
    "while s<=x:\n",
    "    print(\"*\"*s)\n",
    "    s+=1"
   ]
  },
  {
   "cell_type": "code",
   "execution_count": 1,
   "id": "0a895f79",
   "metadata": {},
   "outputs": [
    {
     "name": "stdout",
     "output_type": "stream",
     "text": [
      "   *\n",
      "  ***\n",
      " *****\n",
      "*******\n"
     ]
    }
   ],
   "source": [
    "print(\"   *\")\n",
    "print(\"  ***\")\n",
    "print(\" *****\")\n",
    "print(\"*******\")"
   ]
  },
  {
   "cell_type": "code",
   "execution_count": 2,
   "id": "9ef8137a",
   "metadata": {},
   "outputs": [
    {
     "name": "stdout",
     "output_type": "stream",
     "text": [
      "   *\n",
      "  ***\n",
      " *****\n",
      "*******\n",
      "*******\n",
      " *****\n",
      "  ***\n",
      "   *\n"
     ]
    }
   ],
   "source": [
    "print(\"   *\")\n",
    "print(\"  ***\")\n",
    "print(\" *****\")\n",
    "print(\"*******\")\n",
    "print(\"*******\")\n",
    "print(\" *****\")\n",
    "print(\"  ***\")\n",
    "print(\"   *\")"
   ]
  },
  {
   "cell_type": "code",
   "execution_count": 4,
   "id": "8b6705a7",
   "metadata": {},
   "outputs": [
    {
     "name": "stdout",
     "output_type": "stream",
     "text": [
      "hi\n",
      "\n",
      "i'am mahmoud\n",
      "18\n",
      "wonderful day\n",
      "wonderful \"day\"\n"
     ]
    }
   ],
   "source": [
    "print(\"hi\")\n",
    "print()\n",
    "print(\"i'am mahmoud\")\n",
    "print(3*6)\n",
    "print(\"wonderful day\")\n",
    "print('wonderful \"day\"')"
   ]
  }
 ],
 "metadata": {
  "kernelspec": {
   "display_name": "Python 3 (ipykernel)",
   "language": "python",
   "name": "python3"
  },
  "language_info": {
   "codemirror_mode": {
    "name": "ipython",
    "version": 3
   },
   "file_extension": ".py",
   "mimetype": "text/x-python",
   "name": "python",
   "nbconvert_exporter": "python",
   "pygments_lexer": "ipython3",
   "version": "3.9.12"
  }
 },
 "nbformat": 4,
 "nbformat_minor": 5
}
