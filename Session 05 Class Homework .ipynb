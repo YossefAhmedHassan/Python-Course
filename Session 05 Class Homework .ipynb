{
 "cells": [
  {
   "cell_type": "code",
   "execution_count": 54,
   "id": "0aacc1ad",
   "metadata": {},
   "outputs": [
    {
     "name": "stdout",
     "output_type": "stream",
     "text": [
      "enter the start number: 1\n",
      "enter the end number: 10\n",
      "enter the step number: 1\n",
      "0 2\n",
      "1 3\n",
      "2 4\n",
      "3 5\n",
      "4 6\n",
      "5 7\n",
      "6 8\n",
      "7 9\n",
      "None\n"
     ]
    }
   ],
   "source": [
    "class My_MyRange:\n",
    "    def __inti__(self,start,end,step):\n",
    "        self.start=start\n",
    "        self.end=end\n",
    "        self.step=step\n",
    "    def get_next(self):\n",
    "        self.start=int(input(\"enter the start number: \"))\n",
    "        self.end=int(input(\"enter the end number: \"))\n",
    "        self.step=int(input(\"enter the step number: \"))\n",
    "        if self.step>=1:\n",
    "            for i in enumerate(range(self.end)):\n",
    "                self.start=self.start+self.step\n",
    "                idx,x=i\n",
    "                x=print(idx,self.start)\n",
    "                if self.start==self.end-1:\n",
    "                    break\n",
    "        else:\n",
    "             for i in enumerate(range(self.end)):\n",
    "                self.end=self.end+self.step\n",
    "                idx,x=i\n",
    "                x=print((idx,self.end))\n",
    "                if self.end<=self.start:\n",
    "                    break\n",
    "#start=int(input(\"enter the start number: \"))\n",
    "#end=int(input(\"enter the end number: \"))\n",
    "#step=int(input(\"enter the step number: \"))            \n",
    "rng=My_MyRange()\n",
    "print(rng.get_next())\n"
   ]
  }
 ],
 "metadata": {
  "kernelspec": {
   "display_name": "Python 3 (ipykernel)",
   "language": "python",
   "name": "python3"
  },
  "language_info": {
   "codemirror_mode": {
    "name": "ipython",
    "version": 3
   },
   "file_extension": ".py",
   "mimetype": "text/x-python",
   "name": "python",
   "nbconvert_exporter": "python",
   "pygments_lexer": "ipython3",
   "version": "3.9.12"
  }
 },
 "nbformat": 4,
 "nbformat_minor": 5
}
